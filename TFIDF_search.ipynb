{
  "nbformat": 4,
  "nbformat_minor": 0,
  "metadata": {
    "colab": {
      "name": "TFIDF search.ipynb",
      "provenance": [],
      "include_colab_link": true
    },
    "kernelspec": {
      "name": "python3",
      "display_name": "Python 3"
    }
  },
  "cells": [
    {
      "cell_type": "markdown",
      "metadata": {
        "id": "view-in-github",
        "colab_type": "text"
      },
      "source": [
        "<a href=\"https://colab.research.google.com/github/IggyZhao/NLP-and-Time-Series-Notes-by-Iggy/blob/master/TFIDF_search.ipynb\" target=\"_parent\"><img src=\"https://colab.research.google.com/assets/colab-badge.svg\" alt=\"Open In Colab\"/></a>"
      ]
    },
    {
      "cell_type": "code",
      "metadata": {
        "id": "V-Jpk_rjrA8y",
        "colab_type": "code",
        "colab": {
          "base_uri": "https://localhost:8080/",
          "height": 128
        },
        "outputId": "39385e24-0ca4-4ef1-f684-a865baa8acf9"
      },
      "source": [
        "#import necessary libraries\n",
        "import pandas as pd\n",
        "import sklearn as sk\n",
        "import math \n",
        "#load up our sample sentences\n",
        "first= 'And our restaurant in New York serves croquets and bitterballen'\n",
        "second= 'In the Netherlands you retrieve croquets and frikandellen from the wall'\n",
        "#split so each word have their own string\n",
        "first = first.split(\" \")\n",
        "second= second.split(\" \")\n",
        "#join them to remove common duplicate words\n",
        "total= set(first).union(set(second)).union(set(second))\n",
        "print(total)\n",
        "#Now lets add a way to count the words using a dictionary key-value pairing for both sentences\n",
        "wordDictA = dict.fromkeys(total, 0) \n",
        "wordDictB = dict.fromkeys(total, 0)\n",
        "for word in first:\n",
        "    wordDictA[word]+=1\n",
        "    \n",
        "for word in second:\n",
        "    wordDictB[word]+=1\n",
        "#put them in a dataframe and then view the result:\n",
        "pd.DataFrame([wordDictA, wordDictB])"
      ],
      "execution_count": null,
      "outputs": [
        {
          "output_type": "stream",
          "text": [
            "{'wall', 'New', 'York', 'the', 'frikandellen', 'Netherlands', 'our', 'croquets', 'restaurant', 'bitterballen', 'and', 'from', 'retrieve', 'And', 'In', 'serves', 'in', 'you'}\n"
          ],
          "name": "stdout"
        },
        {
          "output_type": "execute_result",
          "data": {
            "text/html": [
              "<div>\n",
              "<style scoped>\n",
              "    .dataframe tbody tr th:only-of-type {\n",
              "        vertical-align: middle;\n",
              "    }\n",
              "\n",
              "    .dataframe tbody tr th {\n",
              "        vertical-align: top;\n",
              "    }\n",
              "\n",
              "    .dataframe thead th {\n",
              "        text-align: right;\n",
              "    }\n",
              "</style>\n",
              "<table border=\"1\" class=\"dataframe\">\n",
              "  <thead>\n",
              "    <tr style=\"text-align: right;\">\n",
              "      <th></th>\n",
              "      <th>wall</th>\n",
              "      <th>New</th>\n",
              "      <th>York</th>\n",
              "      <th>the</th>\n",
              "      <th>frikandellen</th>\n",
              "      <th>Netherlands</th>\n",
              "      <th>our</th>\n",
              "      <th>croquets</th>\n",
              "      <th>restaurant</th>\n",
              "      <th>bitterballen</th>\n",
              "      <th>and</th>\n",
              "      <th>from</th>\n",
              "      <th>retrieve</th>\n",
              "      <th>And</th>\n",
              "      <th>In</th>\n",
              "      <th>serves</th>\n",
              "      <th>in</th>\n",
              "      <th>you</th>\n",
              "    </tr>\n",
              "  </thead>\n",
              "  <tbody>\n",
              "    <tr>\n",
              "      <th>0</th>\n",
              "      <td>0</td>\n",
              "      <td>1</td>\n",
              "      <td>1</td>\n",
              "      <td>0</td>\n",
              "      <td>0</td>\n",
              "      <td>0</td>\n",
              "      <td>1</td>\n",
              "      <td>1</td>\n",
              "      <td>1</td>\n",
              "      <td>1</td>\n",
              "      <td>1</td>\n",
              "      <td>0</td>\n",
              "      <td>0</td>\n",
              "      <td>1</td>\n",
              "      <td>0</td>\n",
              "      <td>1</td>\n",
              "      <td>1</td>\n",
              "      <td>0</td>\n",
              "    </tr>\n",
              "    <tr>\n",
              "      <th>1</th>\n",
              "      <td>1</td>\n",
              "      <td>0</td>\n",
              "      <td>0</td>\n",
              "      <td>2</td>\n",
              "      <td>1</td>\n",
              "      <td>1</td>\n",
              "      <td>0</td>\n",
              "      <td>1</td>\n",
              "      <td>0</td>\n",
              "      <td>0</td>\n",
              "      <td>1</td>\n",
              "      <td>1</td>\n",
              "      <td>1</td>\n",
              "      <td>0</td>\n",
              "      <td>1</td>\n",
              "      <td>0</td>\n",
              "      <td>0</td>\n",
              "      <td>1</td>\n",
              "    </tr>\n",
              "  </tbody>\n",
              "</table>\n",
              "</div>"
            ],
            "text/plain": [
              "   wall  New  York  the  frikandellen  ...  And  In  serves  in  you\n",
              "0     0    1     1    0             0  ...    1   0       1   1    0\n",
              "1     1    0     0    2             1  ...    0   1       0   0    1\n",
              "\n",
              "[2 rows x 18 columns]"
            ]
          },
          "metadata": {
            "tags": []
          },
          "execution_count": 13
        }
      ]
    },
    {
      "cell_type": "code",
      "metadata": {
        "id": "otlXFXbgrCNy",
        "colab_type": "code",
        "colab": {}
      },
      "source": [
        "#Now writing the TF function:\n",
        "def computeTF(wordDict, bow):\n",
        "    tfDict = {}\n",
        "    bowCount = len(bow)\n",
        "    for word, count in wordDict.items():\n",
        "        tfDict[word] = count/float(bowCount)\n",
        "    return tfDict\n",
        "#running our sentences through the tf function:\n",
        "tfFirst = computeTF(wordDictA, first)\n",
        "tfSecond = computeTF(wordDictB, second)\n",
        "#Converting to dataframe for visualization\n",
        "tf_df= pd.DataFrame([tfFirst, tfSecond])"
      ],
      "execution_count": null,
      "outputs": []
    },
    {
      "cell_type": "code",
      "metadata": {
        "id": "lQLTQ6SVrtXz",
        "colab_type": "code",
        "colab": {}
      },
      "source": [
        "#creating the log portion of the Excel table we saw earlier\n",
        "def computeIDF(docList):\n",
        "    idfDict = {}\n",
        "    N = len(docList)\n",
        "    \n",
        "    idfDict = dict.fromkeys(docList[0].keys(), 0)\n",
        "    for doc in docList:\n",
        "        for word, val in doc.items():\n",
        "            if val > 0:\n",
        "                idfDict[word] += 1\n",
        "    \n",
        "    for word, val in idfDict.items():\n",
        "        idfDict[word] = math.log10(N / float(val))\n",
        "        \n",
        "    return idfDict\n",
        "#inputing our sentences in the log file\n",
        "idfs = computeIDF([wordDictA, wordDictB])\n",
        "#The actual calculation of TF*IDF from the table above:\n",
        "def computeTFIDF(tfBow, idfs):\n",
        "    tfidf = {}\n",
        "    for word, val in tfBow.items():\n",
        "        tfidf[word] = val*idfs[word]\n",
        "    return tfidf\n",
        "#running our two sentences through the IDF:\n",
        "idfFirst = computeTFIDF(tfFirst, idfs)\n",
        "idfSecond = computeTFIDF(tfSecond, idfs)\n",
        "#putting it in a dataframe\n",
        "idf= pd.DataFrame([idfFirst, idfSecond])"
      ],
      "execution_count": null,
      "outputs": []
    },
    {
      "cell_type": "code",
      "metadata": {
        "id": "NgBITYVirwah",
        "colab_type": "code",
        "colab": {
          "base_uri": "https://localhost:8080/",
          "height": 111
        },
        "outputId": "de2892fd-03eb-428d-b4e6-c0f8476c3e32"
      },
      "source": [
        "idf"
      ],
      "execution_count": null,
      "outputs": [
        {
          "output_type": "execute_result",
          "data": {
            "text/html": [
              "<div>\n",
              "<style scoped>\n",
              "    .dataframe tbody tr th:only-of-type {\n",
              "        vertical-align: middle;\n",
              "    }\n",
              "\n",
              "    .dataframe tbody tr th {\n",
              "        vertical-align: top;\n",
              "    }\n",
              "\n",
              "    .dataframe thead th {\n",
              "        text-align: right;\n",
              "    }\n",
              "</style>\n",
              "<table border=\"1\" class=\"dataframe\">\n",
              "  <thead>\n",
              "    <tr style=\"text-align: right;\">\n",
              "      <th></th>\n",
              "      <th>wall</th>\n",
              "      <th>from</th>\n",
              "      <th>york</th>\n",
              "      <th>retrieve</th>\n",
              "      <th>new</th>\n",
              "      <th>In</th>\n",
              "      <th>bitterballen</th>\n",
              "      <th>the</th>\n",
              "      <th>serves</th>\n",
              "      <th>frikandellen</th>\n",
              "      <th>Netherlands</th>\n",
              "      <th>our</th>\n",
              "      <th>and</th>\n",
              "      <th>restaurant</th>\n",
              "      <th>in</th>\n",
              "      <th>croquets</th>\n",
              "      <th>you</th>\n",
              "    </tr>\n",
              "  </thead>\n",
              "  <tbody>\n",
              "    <tr>\n",
              "      <th>0</th>\n",
              "      <td>0.000000</td>\n",
              "      <td>0.000000</td>\n",
              "      <td>0.030103</td>\n",
              "      <td>0.000000</td>\n",
              "      <td>0.030103</td>\n",
              "      <td>0.000000</td>\n",
              "      <td>0.030103</td>\n",
              "      <td>0.000000</td>\n",
              "      <td>0.030103</td>\n",
              "      <td>0.000000</td>\n",
              "      <td>0.000000</td>\n",
              "      <td>0.030103</td>\n",
              "      <td>0.0</td>\n",
              "      <td>0.030103</td>\n",
              "      <td>0.030103</td>\n",
              "      <td>0.0</td>\n",
              "      <td>0.000000</td>\n",
              "    </tr>\n",
              "    <tr>\n",
              "      <th>1</th>\n",
              "      <td>0.027366</td>\n",
              "      <td>0.027366</td>\n",
              "      <td>0.000000</td>\n",
              "      <td>0.027366</td>\n",
              "      <td>0.000000</td>\n",
              "      <td>0.027366</td>\n",
              "      <td>0.000000</td>\n",
              "      <td>0.054733</td>\n",
              "      <td>0.000000</td>\n",
              "      <td>0.027366</td>\n",
              "      <td>0.027366</td>\n",
              "      <td>0.000000</td>\n",
              "      <td>0.0</td>\n",
              "      <td>0.000000</td>\n",
              "      <td>0.000000</td>\n",
              "      <td>0.0</td>\n",
              "      <td>0.027366</td>\n",
              "    </tr>\n",
              "  </tbody>\n",
              "</table>\n",
              "</div>"
            ],
            "text/plain": [
              "       wall      from      york  ...        in  croquets       you\n",
              "0  0.000000  0.000000  0.030103  ...  0.030103       0.0  0.000000\n",
              "1  0.027366  0.027366  0.000000  ...  0.000000       0.0  0.027366\n",
              "\n",
              "[2 rows x 17 columns]"
            ]
          },
          "metadata": {
            "tags": []
          },
          "execution_count": 12
        }
      ]
    },
    {
      "cell_type": "code",
      "metadata": {
        "id": "eyX1W4WorxDy",
        "colab_type": "code",
        "colab": {}
      },
      "source": [
        ""
      ],
      "execution_count": null,
      "outputs": []
    }
  ]
}